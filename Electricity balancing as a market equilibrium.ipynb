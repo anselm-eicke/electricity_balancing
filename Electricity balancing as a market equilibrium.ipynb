{
 "cells": [
  {
   "cell_type": "markdown",
   "metadata": {},
   "source": [
    "# Setup"
   ]
  },
  {
   "cell_type": "markdown",
   "metadata": {},
   "source": [
    "Load modules:"
   ]
  },
  {
   "cell_type": "code",
   "execution_count": 1,
   "metadata": {},
   "outputs": [],
   "source": [
    "import numpy as np\n",
    "import pandas as pd\n",
    "import matplotlib.pyplot as plt\n",
    "import statsmodels.api as sm\n",
    "\n",
    "from scipy.optimize import fsolve\n",
    "from linearmodels import IVSystemGMM, IVGMM\n",
    "\n",
    "%matplotlib inline\n",
    "pd.set_option('display.max_columns', None)"
   ]
  },
  {
   "cell_type": "markdown",
   "metadata": {},
   "source": [
    "Read preprocessed data (data itself can unfortunately not be shared due to licence restrictions)"
   ]
  },
  {
   "cell_type": "code",
   "execution_count": 2,
   "metadata": {},
   "outputs": [],
   "source": [
    "df = pd.read_pickle('data/preprocessed')"
   ]
  },
  {
   "cell_type": "markdown",
   "metadata": {},
   "source": [
    "introduce control variables"
   ]
  },
  {
   "cell_type": "code",
   "execution_count": 3,
   "metadata": {
    "scrolled": true
   },
   "outputs": [],
   "source": [
    "# introduce control variables\n",
    "\n",
    "# quarter hours\n",
    "df['M_15'] = 0\n",
    "df.loc[df.index.minute == 15,'M_15'] = 1\n",
    "\n",
    "df['M_30'] = 0\n",
    "df.loc[df.index.minute == 30,'M_30'] = 1\n",
    "\n",
    "df['M_45'] = 0\n",
    "df.loc[df.index.minute == 45,'M_45'] = 1\n",
    "\n",
    "# hours\n",
    "for i in ['1','2','3','4','5','6','7','8','9','10','11','12','13','14','15','16','17','18','19','20','21','22','23']:\n",
    "    df[i] = 0\n",
    "    df.loc[df.index.hour == int(i),i] = 1\n",
    "\n",
    "# business days\n",
    "bdays = pd.bdate_range(df.index.date[1], df.index.date[-1], freq = 'B')\n",
    "df['Business day'] = 0\n",
    "for i in bdays:\n",
    "    df.loc[df.index.date == i, 'Business day'] = 1\n",
    "\n",
    "#summer / winter  \n",
    "df['Summer'] = 0\n",
    "df.loc[(df.index.date > pd.Timestamp('2018-06-20')) & (df.index.date < pd.Timestamp('2018-09-22')),'Summer'] = 1\n",
    "df.loc[(df.index.date > pd.Timestamp('2019-06-20')) & (df.index.date < pd.Timestamp('2019-09-22')),'Summer'] = 1\n",
    "\n",
    "df['Winter'] = 0\n",
    "df.loc[(df.index.date > pd.Timestamp('2018-12-21')) & (df.index.date < pd.Timestamp('2019-03-20')),'Winter'] = 1"
   ]
  },
  {
   "cell_type": "markdown",
   "metadata": {},
   "source": [
    "define the threshold value for data exclusion (changed in sensitivity analysis)"
   ]
  },
  {
   "cell_type": "code",
   "execution_count": 4,
   "metadata": {},
   "outputs": [],
   "source": [
    "th = 500\n",
    "df_short = df.loc[(df['system imbalance'] > th) & (df['ID_coupling'] != 1)]\n",
    "df_long = df.loc[(df['system imbalance'] < -th) & (df['ID_coupling'] != 1)]\n",
    "df_combined = df.loc[((df['system imbalance'] < -th) | (df['system imbalance'] > th)) & (df['ID_coupling'] != 1)]"
   ]
  },
  {
   "cell_type": "markdown",
   "metadata": {},
   "source": [
    "# Relevance of instruments"
   ]
  },
  {
   "cell_type": "markdown",
   "metadata": {},
   "source": [
    "testing the relevance of instruments through OLS regressions"
   ]
  },
  {
   "cell_type": "code",
   "execution_count": 5,
   "metadata": {},
   "outputs": [],
   "source": [
    "def ols_regression(df, endog, exog):       \n",
    "    model = sm.OLS(df[endog], df[exog])\n",
    "    results = model.fit()\n",
    "    print(results.summary())"
   ]
  },
  {
   "cell_type": "code",
   "execution_count": 6,
   "metadata": {},
   "outputs": [
    {
     "name": "stdout",
     "output_type": "stream",
     "text": [
      "                            OLS Regression Results                            \n",
      "==============================================================================\n",
      "Dep. Variable:        imbalance price   R-squared:                       0.282\n",
      "Model:                            OLS   Adj. R-squared:                  0.282\n",
      "Method:                 Least Squares   F-statistic:                     1549.\n",
      "Date:                Tue, 25 Aug 2020   Prob (F-statistic):               0.00\n",
      "Time:                        09:40:44   Log-Likelihood:                -68285.\n",
      "No. Observations:               11817   AIC:                         1.366e+05\n",
      "Df Residuals:                   11813   BIC:                         1.366e+05\n",
      "Df Model:                           3                                         \n",
      "Covariance Type:            nonrobust                                         \n",
      "==============================================================================\n",
      "                 coef    std err          t      P>|t|      [0.025      0.975]\n",
      "------------------------------------------------------------------------------\n",
      "FRR_POS_S      0.3328      0.009     38.163      0.000       0.316       0.350\n",
      "FRR_NEG_L     -0.0222      0.002    -12.780      0.000      -0.026      -0.019\n",
      "const_POS     40.5248      1.464     27.672      0.000      37.654      43.395\n",
      "const_NEG      6.4433      1.122      5.742      0.000       4.244       8.643\n",
      "==============================================================================\n",
      "Omnibus:                    14666.559   Durbin-Watson:                   1.103\n",
      "Prob(Omnibus):                  0.000   Jarque-Bera (JB):         49217795.506\n",
      "Skew:                           5.622   Prob(JB):                         0.00\n",
      "Kurtosis:                     318.964   Cond. No.                         872.\n",
      "==============================================================================\n",
      "\n",
      "Warnings:\n",
      "[1] Standard Errors assume that the covariance matrix of the errors is correctly specified.\n"
     ]
    }
   ],
   "source": [
    "endog = ['imbalance price']\n",
    "exog = ['FRR_POS_S', 'FRR_NEG_L', 'const_POS', 'const_NEG']\n",
    "\n",
    "ols_regression(df_combined, endog, exog)"
   ]
  },
  {
   "cell_type": "code",
   "execution_count": 7,
   "metadata": {},
   "outputs": [
    {
     "name": "stdout",
     "output_type": "stream",
     "text": [
      "                            OLS Regression Results                            \n",
      "==============================================================================\n",
      "Dep. Variable:       system imbalance   R-squared:                       0.436\n",
      "Model:                            OLS   Adj. R-squared:                  0.436\n",
      "Method:                 Least Squares   F-statistic:                     2286.\n",
      "Date:                Tue, 25 Aug 2020   Prob (F-statistic):               0.00\n",
      "Time:                        09:40:44   Log-Likelihood:                -94460.\n",
      "No. Observations:               11817   AIC:                         1.889e+05\n",
      "Df Residuals:                   11812   BIC:                         1.890e+05\n",
      "Df Model:                           4                                         \n",
      "Covariance Type:            nonrobust                                         \n",
      "================================================================================\n",
      "                   coef    std err          t      P>|t|      [0.025      0.975]\n",
      "--------------------------------------------------------------------------------\n",
      "Load DA err     -0.0999      0.003    -31.780      0.000      -0.106      -0.094\n",
      "Solar DA err     0.1717      0.009     19.392      0.000       0.154       0.189\n",
      "Wind ID err      0.3830      0.009     44.860      0.000       0.366       0.400\n",
      "ID1-DA          16.5111      0.318     51.848      0.000      15.887      17.135\n",
      "const          -41.6867      8.032     -5.190      0.000     -57.431     -25.942\n",
      "==============================================================================\n",
      "Omnibus:                      933.499   Durbin-Watson:                   0.500\n",
      "Prob(Omnibus):                  0.000   Jarque-Bera (JB):             2748.431\n",
      "Skew:                          -0.420   Prob(JB):                         0.00\n",
      "Kurtosis:                       5.208   Cond. No.                     3.15e+03\n",
      "==============================================================================\n",
      "\n",
      "Warnings:\n",
      "[1] Standard Errors assume that the covariance matrix of the errors is correctly specified.\n",
      "[2] The condition number is large, 3.15e+03. This might indicate that there are\n",
      "strong multicollinearity or other numerical problems.\n"
     ]
    }
   ],
   "source": [
    "endog = ['system imbalance']\n",
    "exog = ['Load DA err', 'Solar DA err', 'Wind ID err', 'ID1-DA', 'const']  \n",
    "\n",
    "ols_regression(df_combined, endog, exog)"
   ]
  },
  {
   "cell_type": "markdown",
   "metadata": {},
   "source": [
    "# Data characteristica"
   ]
  },
  {
   "cell_type": "markdown",
   "metadata": {},
   "source": [
    "Parameter mean values (Table 2)"
   ]
  },
  {
   "cell_type": "code",
   "execution_count": 8,
   "metadata": {},
   "outputs": [
    {
     "name": "stdout",
     "output_type": "stream",
     "text": [
      "system imbalance\n",
      "Mean (short): 902.5851082668263\n",
      "Mean (long): -839.5044072642931\n",
      "\n",
      "\n",
      "imbalance price\n",
      "Mean (short): 82.72673844300535\n",
      "Mean (long): 2.909482225656869\n",
      "\n",
      "\n",
      "ID1\n",
      "Mean (short): 54.69998795362138\n",
      "Mean (long): 31.288738408037176\n",
      "\n",
      "\n",
      "Load DA err\n",
      "Mean (short): -2028.8555940370427\n",
      "Mean (long): -755.7063369397218\n",
      "\n",
      "\n",
      "Wind ID err\n",
      "Mean (short): 321.71058575515735\n",
      "Mean (long): -334.91846986089644\n",
      "\n",
      "\n",
      "Solar DA err\n",
      "Mean (short): 180.65833458816442\n",
      "Mean (long): -214.01139876352394\n",
      "\n",
      "\n",
      "FRR_POS_S\n",
      "Mean (short): 126.79403122538626\n",
      "Mean (long): 0.0\n",
      "\n",
      "\n",
      "FRR_NEG_L\n",
      "Mean (short): 0.0\n",
      "Mean (long): 159.5374580260768\n",
      "\n",
      "\n",
      "IGCC\n",
      "Mean (short): 195.22898177985297\n",
      "Mean (long): -158.81409428129865\n",
      "\n",
      "\n"
     ]
    }
   ],
   "source": [
    "for indicator in ['system imbalance', \n",
    "                  'imbalance price', \n",
    "                  'ID1', \n",
    "                  'Load DA err', \n",
    "                  'Wind ID err', \n",
    "                  'Solar DA err', \n",
    "                  'FRR_POS_S', \n",
    "                  'FRR_NEG_L',\n",
    "                  'IGCC']:\n",
    "\n",
    "    print(indicator)\n",
    "    print('Mean (short): ' + str(df_short[indicator].mean()))\n",
    "    print('Mean (long): ' + str(df_long[indicator].mean()))\n",
    "    print('\\n')"
   ]
  },
  {
   "cell_type": "markdown",
   "metadata": {},
   "source": [
    "Create scatter plot of imbalance price and system imbalance (Figure 4)"
   ]
  },
  {
   "cell_type": "code",
   "execution_count": 9,
   "metadata": {},
   "outputs": [],
   "source": [
    "def scatter_color(df, \n",
    "            save_path, \n",
    "            y_label='Imbalance price (€/MWh)', \n",
    "            x_label='System imbalance (MW)', \n",
    "            x='system imbalance', \n",
    "            y='imbalance price', \n",
    "            xlim=[-3000,3000], \n",
    "            xstep=10, \n",
    "            ystep=1, \n",
    "            ylim=[-300,300], \n",
    "            heat=True):\n",
    "    \n",
    "    fig = plt.figure(figsize=(6/1.2, 5/1.2))\n",
    "    \n",
    "    def get_value(df, x, y):\n",
    "        try:\n",
    "            return count.loc[x, y]\n",
    "        except KeyError:\n",
    "            return np.nan\n",
    "\n",
    "    xlist = range(xlim[0], xlim[1]+1, xstep)\n",
    "    ylist = range(ylim[0], ylim[1]+1, ystep)\n",
    "\n",
    "    df = df.copy()\n",
    "    df[x] = (df[x]/xstep).round()*xstep\n",
    "    df[y] = (df[y]/ystep).round()*ystep\n",
    "\n",
    "    count = df.groupby([x, y])[x].count().unstack()\n",
    "    count = pd.concat([\n",
    "        pd.Series([\n",
    "            get_value(count, xi, yi)\n",
    "            for xi in xlist\n",
    "        ], index=xlist)\n",
    "        for yi in ylist\n",
    "    ], axis=1, keys=ylist)\n",
    "\n",
    "    count = count.div(xstep * ystep)\n",
    "    \n",
    "    plt.pcolormesh(count.index, count.columns, count.transpose(), cmap='hot')\n",
    "    plt.grid()\n",
    "    plt.xlabel(x_label)\n",
    "    plt.ylabel(y_label)\n",
    "    \n",
    "    #Short and long system labels\n",
    "    props = dict(facecolor='white', alpha=0) \n",
    "    fig.text(0.2, 0.93, 'Long system', fontsize=11, verticalalignment='top', bbox=props) \n",
    "    fig.text(0.5, 0.93, 'Short system', fontsize=11, verticalalignment='top', bbox=props)\n",
    "    \n",
    "    # number of observations\n",
    "    props = dict(facecolor='white', alpha=1) \n",
    "    fig.text(0.56, 0.18, 'N = ' + str(df.shape[0]), fontsize=11, verticalalignment='top', bbox=props) \n",
    "    \n",
    "    # plot colorbar\n",
    "    #norm = mpl.colors.Normalize(vmin=vmin, vmax=vmax)\n",
    "    plt.colorbar(cmap='hot', shrink=0.72, aspect = 20, \n",
    "                 ticks=np.arange(0.2,1.66,.2),\n",
    "                 boundaries=np.arange(.15,1.66,.02))\n",
    "    \n",
    "    # colorbarlabel\n",
    "    props = dict(facecolor='white', alpha=0)\n",
    "    fig.text(0.78, 0.86, 'Density of\\nobservations\\n(1 per\\nMW * €/MWh)', fontsize=11, verticalalignment='center', \n",
    "        horizontalalignment = 'left', bbox=props)\n",
    "   \n",
    "    plt.savefig('graphs/' + save_path, dpi = 500)      "
   ]
  },
  {
   "cell_type": "code",
   "execution_count": 10,
   "metadata": {
    "scrolled": true
   },
   "outputs": [
    {
     "data": {
      "image/png": "[encoded data removed]",
      "text/plain": [
       "<Figure size 360x300 with 2 Axes>"
      ]
     },
     "metadata": {
      "needs_background": "light"
     },
     "output_type": "display_data"
    }
   ],
   "source": [
    "scatter_color(df, save_path='all_data')"
   ]
  },
  {
   "cell_type": "markdown",
   "metadata": {},
   "source": [
    "# Econometric GMM Model"
   ]
  },
  {
   "cell_type": "markdown",
   "metadata": {},
   "source": [
    "Define control variables"
   ]
  },
  {
   "cell_type": "code",
   "execution_count": 11,
   "metadata": {},
   "outputs": [],
   "source": [
    "control_variables = ['Business day', 'Winter', 'Summer', 'M_15','M_30','M_45', '1','2','3','4','5','6','7','8','9','10','11','12','13','14','15','16','17','18','19','20','21','22','23']"
   ]
  },
  {
   "cell_type": "markdown",
   "metadata": {},
   "source": [
    "Combined system GMM estimation for short and long systems (e.g. Model 1)"
   ]
  },
  {
   "cell_type": "code",
   "execution_count": 12,
   "metadata": {},
   "outputs": [],
   "source": [
    "def system_GMM_combined(df, wind = 'Wind ID err'):\n",
    "\n",
    "    demand = ['system imbalance']\n",
    "    demand_shifters = ['ID1', 'Load DA err', wind, 'Solar DA err']\n",
    "    supply_instruments = ['Load DA err', 'Solar DA err', wind, 'ID1-DA']\n",
    "    supply = ['imbalance price']\n",
    "    supply_shifters = ['IGCC', 'FRR_POS_S', 'FRR_NEG_L'] # \n",
    "    demand_instruments = ['FRR_POS_S', 'FRR_NEG_L']\n",
    "\n",
    "    equations = dict(\n",
    "        imbalance_price = {\n",
    "            'dependent': df[supply],\n",
    "            'exog': df[supply_shifters + ['const_POS', 'const_NEG']], # + control_variables \n",
    "            'endog': df[demand],\n",
    "            'instruments': df[supply_instruments]\n",
    "        },\n",
    "        system_imbalance = {\n",
    "            'dependent': df[demand], \n",
    "            'exog': df[demand_shifters + ['const_POS', 'const_NEG']], # + control_variables \n",
    "            'endog': df[supply], \n",
    "            'instruments': df[supply_shifters]\n",
    "        }\n",
    "    )\n",
    "\n",
    "    system_gmm = IVSystemGMM(equations, weight_type='heteroskedastic')\n",
    "    results = system_gmm.fit(cov_type='kernel', iter_limit=100) # robust\n",
    "    print('Number of iterations: ' + str(results.iterations))\n",
    "    print(results)\n",
    "    \n",
    "    return(results)"
   ]
  },
  {
   "cell_type": "code",
   "execution_count": 13,
   "metadata": {},
   "outputs": [
    {
     "name": "stdout",
     "output_type": "stream",
     "text": [
      "Number of iterations: 14\n",
      "                 System Iterative System GMM Estimation Summary                 \n",
      "================================================================================\n",
      "Estimator:         Iterative System GMM   Overall R-squared:              0.7783\n",
      "No. Equations.:                       2   Cov. Estimator:                 kernel\n",
      "No. Observations:                 11817   Num. Constraints:                 None\n",
      "Date:                  Tue, Aug 25 2020                                         \n",
      "Time:                          09:41:03                                         \n",
      "                                                                                \n",
      "                                                                                \n",
      "           Equation: imbalance_price, Dependent Variable: imbalance price           \n",
      "====================================================================================\n",
      "                  Parameter  Std. Err.     T-stat    P-value    Lower CI    Upper CI\n",
      "------------------------------------------------------------------------------------\n",
      "IGCC                -0.0530     0.0064    -8.2259     0.0000     -0.0657     -0.0404\n",
      "FRR_POS_S            0.3663     0.0635     5.7657     0.0000      0.2418      0.4908\n",
      "FRR_NEG_L           -0.0293     0.0117    -2.5068     0.0122     -0.0522     -0.0064\n",
      "const_POS           -24.502     11.457    -2.1386     0.0325     -46.957     -2.0465\n",
      "const_NEG            65.423     8.9622     7.2999     0.0000      47.858      82.989\n",
      "system imbalance     0.0791     0.0112     7.0647     0.0000      0.0572      0.1011\n",
      "                                                                                    \n",
      "==============================================\n",
      "                 Instruments                  \n",
      "----------------------------------------------\n",
      "Load DA err, Solar DA err, Wind ID err, ID1-DA\n",
      "                                              \n",
      "          Equation: system_imbalance, Dependent Variable: system imbalance         \n",
      "===================================================================================\n",
      "                 Parameter  Std. Err.     T-stat    P-value    Lower CI    Upper CI\n",
      "-----------------------------------------------------------------------------------\n",
      "ID1                 7.2587     1.2691     5.7195     0.0000      4.7713      9.7461\n",
      "Load DA err        -0.0196     0.0037    -5.2771     0.0000     -0.0269     -0.0123\n",
      "Wind ID err         0.0991     0.0172     5.7661     0.0000      0.0654      0.1328\n",
      "Solar DA err        0.0489     0.0173     2.8247     0.0047      0.0150      0.0828\n",
      "const_POS           656.34     40.877     16.056     0.0000      576.22      736.45\n",
      "const_NEG          -1029.7     40.672    -25.318     0.0000     -1109.4     -950.01\n",
      "imbalance price    -2.8055     0.6568    -4.2717     0.0000     -4.0927     -1.5182\n",
      "==========================\n",
      "       Instruments        \n",
      "--------------------------\n",
      "IGCC, FRR_POS_S, FRR_NEG_L\n",
      "--------------------------\n",
      "\n",
      "Covariance Estimator:\n",
      "GMM Kernel (HAC) Covariance\n",
      "Weight Estimator:\n",
      "Heteroskedastic (Robust) Weighting (Debiased: False, Center: False)\n"
     ]
    }
   ],
   "source": [
    "# Table 3 (1) Combined model\n",
    "results_combined = system_GMM_combined(df_combined);"
   ]
  },
  {
   "cell_type": "markdown",
   "metadata": {},
   "source": [
    "Individual system GMM estimation for short / long systems (e.g. Models 2 and 3)   "
   ]
  },
  {
   "cell_type": "code",
   "execution_count": 14,
   "metadata": {},
   "outputs": [],
   "source": [
    "def system_GMM_one_direction(df, direction='POS'):\n",
    "\n",
    "    demand = ['system imbalance']\n",
    "    demand_shifters = ['Load DA err', 'Wind ID err', 'Solar DA err', 'ID1']\n",
    "    supply_instruments = ['Load DA err', 'Wind ID err', 'Solar DA err', 'ID1-DA']\n",
    "    supply = ['imbalance price']\n",
    "    supply_shifters = ['FRR_prices_{}'.format(direction), 'IGCC']\n",
    "    demand_instruments = ['FRR_prices_{}'.format(direction)]\n",
    "    \n",
    "    equations = dict(\n",
    "        imbalance_price = {\n",
    "            'dependent': df[supply],\n",
    "            'exog': df[supply_shifters + ['const']],\n",
    "            'endog': df[demand],\n",
    "            'instruments': df[supply_instruments]\n",
    "        },\n",
    "        system_imbalance = {\n",
    "            'dependent': df[demand], \n",
    "            'exog': df[demand_shifters + ['const']], \n",
    "            'endog': df[supply], \n",
    "            'instruments': df[demand_instruments]\n",
    "        }\n",
    "    )\n",
    "\n",
    "    system_gmm = IVSystemGMM(equations, weight_type='heteroskedastic')\n",
    "    results = system_gmm.fit(cov_type='kernel', iter_limit=100) # robust\n",
    "    print('Number of iterations: ' + str(results.iterations))\n",
    "    print(results)\n",
    "    \n",
    "    return(results)"
   ]
  },
  {
   "cell_type": "code",
   "execution_count": 15,
   "metadata": {},
   "outputs": [
    {
     "name": "stdout",
     "output_type": "stream",
     "text": [
      "Number of iterations: 10\n",
      "                 System Iterative System GMM Estimation Summary                 \n",
      "================================================================================\n",
      "Estimator:         Iterative System GMM   Overall R-squared:             -0.2447\n",
      "No. Equations.:                       2   Cov. Estimator:                 kernel\n",
      "No. Observations:                  6641   Num. Constraints:                 None\n",
      "Date:                  Tue, Aug 25 2020                                         \n",
      "Time:                          09:41:03                                         \n",
      "                                                                                \n",
      "                                                                                \n",
      "           Equation: imbalance_price, Dependent Variable: imbalance price           \n",
      "====================================================================================\n",
      "                  Parameter  Std. Err.     T-stat    P-value    Lower CI    Upper CI\n",
      "------------------------------------------------------------------------------------\n",
      "FRR_prices_POS       0.3464     0.0680     5.0932     0.0000      0.2131      0.4797\n",
      "IGCC                -0.0658     0.0100    -6.6020     0.0000     -0.0854     -0.0463\n",
      "const               -13.425     12.309    -1.0907     0.2754     -37.550      10.699\n",
      "system imbalance     0.0711     0.0121     5.8541     0.0000      0.0473      0.0949\n",
      "                                                                                    \n",
      "==============================================\n",
      "                 Instruments                  \n",
      "----------------------------------------------\n",
      "Load DA err, Wind ID err, Solar DA err, ID1-DA\n",
      "                                              \n",
      "          Equation: system_imbalance, Dependent Variable: system imbalance         \n",
      "===================================================================================\n",
      "                 Parameter  Std. Err.     T-stat    P-value    Lower CI    Upper CI\n",
      "-----------------------------------------------------------------------------------\n",
      "Load DA err        -0.0296     0.0053    -5.5982     0.0000     -0.0400     -0.0193\n",
      "Wind ID err         0.1189     0.0297     3.9987     0.0001      0.0606      0.1772\n",
      "Solar DA err        0.0801     0.0317     2.5234     0.0116      0.0179      0.1423\n",
      "ID1                 8.5828     1.6678     5.1463     0.0000      5.3141      11.852\n",
      "const               580.62     63.515     9.1414     0.0000      456.13      705.11\n",
      "imbalance price    -3.1848     0.8141    -3.9119     0.0001     -4.7804     -1.5891\n",
      "==============\n",
      " Instruments  \n",
      "--------------\n",
      "FRR_prices_POS\n",
      "--------------\n",
      "\n",
      "Covariance Estimator:\n",
      "GMM Kernel (HAC) Covariance\n",
      "Weight Estimator:\n",
      "Heteroskedastic (Robust) Weighting (Debiased: False, Center: False)\n"
     ]
    }
   ],
   "source": [
    "# Table 3 (2): short systems (significantly short systems without price coupling)\n",
    "results_short = system_GMM_one_direction(df_short, 'POS');"
   ]
  },
  {
   "cell_type": "code",
   "execution_count": 16,
   "metadata": {},
   "outputs": [
    {
     "name": "stdout",
     "output_type": "stream",
     "text": [
      "Number of iterations: 16\n",
      "                 System Iterative System GMM Estimation Summary                 \n",
      "================================================================================\n",
      "Estimator:         Iterative System GMM   Overall R-squared:             -0.0299\n",
      "No. Equations.:                       2   Cov. Estimator:                 kernel\n",
      "No. Observations:                  5176   Num. Constraints:                 None\n",
      "Date:                  Tue, Aug 25 2020                                         \n",
      "Time:                          09:41:04                                         \n",
      "                                                                                \n",
      "                                                                                \n",
      "           Equation: imbalance_price, Dependent Variable: imbalance price           \n",
      "====================================================================================\n",
      "                  Parameter  Std. Err.     T-stat    P-value    Lower CI    Upper CI\n",
      "------------------------------------------------------------------------------------\n",
      "FRR_prices_NEG      -0.1175     0.0233    -5.0344     0.0000     -0.1633     -0.0718\n",
      "IGCC                -0.0623     0.0090    -6.9187     0.0000     -0.0799     -0.0446\n",
      "const                94.862     22.493     4.2174     0.0000      50.777      138.95\n",
      "system imbalance     0.1026     0.0263     3.9096     0.0001      0.0512      0.1541\n",
      "                                                                                    \n",
      "==============================================\n",
      "                 Instruments                  \n",
      "----------------------------------------------\n",
      "Load DA err, Wind ID err, Solar DA err, ID1-DA\n",
      "                                              \n",
      "          Equation: system_imbalance, Dependent Variable: system imbalance         \n",
      "===================================================================================\n",
      "                 Parameter  Std. Err.     T-stat    P-value    Lower CI    Upper CI\n",
      "-----------------------------------------------------------------------------------\n",
      "Load DA err        -0.0090     0.0047    -1.9246     0.0543     -0.0182      0.0002\n",
      "Wind ID err         0.0676     0.0158     4.2782     0.0000      0.0366      0.0985\n",
      "Solar DA err        0.0060     0.0131     0.4559     0.6484     -0.0197      0.0317\n",
      "ID1                 5.7571     1.0910     5.2770     0.0000      3.6188      7.8954\n",
      "const              -998.08     44.162    -22.600     0.0000     -1084.6     -911.53\n",
      "imbalance price    -1.4939     0.6715    -2.2246     0.0261     -2.8101     -0.1777\n",
      "==============\n",
      " Instruments  \n",
      "--------------\n",
      "FRR_prices_NEG\n",
      "--------------\n",
      "\n",
      "Covariance Estimator:\n",
      "GMM Kernel (HAC) Covariance\n",
      "Weight Estimator:\n",
      "Heteroskedastic (Robust) Weighting (Debiased: False, Center: False)\n"
     ]
    }
   ],
   "source": [
    "# Table 3 (3): long system (significantly long systems without price coupling)\n",
    "results_long = system_GMM_one_direction(df_long, 'NEG');"
   ]
  },
  {
   "cell_type": "markdown",
   "metadata": {},
   "source": [
    "GMM estimation of the demand curve, i.e. no system of equations, without instruments (Model 4)"
   ]
  },
  {
   "cell_type": "code",
   "execution_count": 17,
   "metadata": {},
   "outputs": [],
   "source": [
    "def GMM_demand_combined(df):\n",
    "\n",
    "    demand = ['system imbalance']\n",
    "    demand_shifters = ['Load DA err', 'Solar DA err', 'Wind ID err', 'ID1']\n",
    "    supply = ['imbalance price']\n",
    "    supply_shifters = ['FRR_POS_S', 'FRR_NEG_L', 'IGCC']\n",
    "\n",
    "    dependent = df[demand]\n",
    "    exog = df[demand_shifters + ['const_POS', 'const_NEG']]\n",
    "    endog = df[supply]\n",
    "    instruments = df[supply] # without instruments        \n",
    "\n",
    "    gmm = IVGMM(dependent, exog, endog, instruments, weight_type='heteroskedastic')\n",
    "    results = gmm.fit(cov_type='kernel', iter_limit=100) # robust\n",
    "    print('Number of iterations: ' + str(results.iterations))\n",
    "    print(results)\n",
    "    \n",
    "    return(results)"
   ]
  },
  {
   "cell_type": "code",
   "execution_count": 18,
   "metadata": {},
   "outputs": [
    {
     "name": "stdout",
     "output_type": "stream",
     "text": [
      "Number of iterations: 2\n",
      "                          IV-GMM Estimation Summary                           \n",
      "==============================================================================\n",
      "Dep. Variable:       system imbalance   R-squared:                      0.8500\n",
      "Estimator:                     IV-GMM   Adj. R-squared:                 0.8499\n",
      "No. Observations:               11817   F-statistic:                 5.818e+04\n",
      "Date:                Tue, Aug 25 2020   P-value (F-stat)                0.0000\n",
      "Time:                        09:41:06   Distribution:                  chi2(7)\n",
      "Cov. Estimator:                kernel                                         \n",
      "                                                                              \n",
      "                                Parameter Estimates                                \n",
      "===================================================================================\n",
      "                 Parameter  Std. Err.     T-stat    P-value    Lower CI    Upper CI\n",
      "-----------------------------------------------------------------------------------\n",
      "Load DA err        -0.0142     0.0029    -4.8347     0.0000     -0.0200     -0.0084\n",
      "Solar DA err        0.0471     0.0043     10.886     0.0000      0.0387      0.0556\n",
      "Wind ID err         0.0803     0.0077     10.390     0.0000      0.0652      0.0955\n",
      "ID1                 5.0513     1.0035     5.0337     0.0000      3.0845      7.0181\n",
      "const_POS           538.98     24.171     22.298     0.0000      491.60      586.35\n",
      "const_NEG          -972.16     24.960    -38.949     0.0000     -1021.1     -923.24\n",
      "imbalance price     0.2916     0.0992     2.9380     0.0033      0.0971      0.4861\n",
      "===================================================================================\n",
      "\n",
      "Endogenous: imbalance price\n",
      "Instruments: imbalance price\n",
      "GMM Covariance\n",
      "Debiased: False\n",
      "Kernel (HAC)\n",
      "Kernel: bartlett\n",
      "Bandwidth: 11815\n"
     ]
    }
   ],
   "source": [
    "# [4] whole period (demand)\n",
    "results_demand_combined = GMM_demand_combined(df_combined);"
   ]
  },
  {
   "cell_type": "markdown",
   "metadata": {},
   "source": [
    "GMM estimation of the supply curve, i.e. no system of equations, without instruments (Model 5)"
   ]
  },
  {
   "cell_type": "code",
   "execution_count": 19,
   "metadata": {},
   "outputs": [],
   "source": [
    "def GMM_supply_combined(df):\n",
    "\n",
    "    demand = ['system imbalance']\n",
    "    demand_shifters = ['Load DA err', 'Solar DA err', 'Wind ID err', 'ID1']\n",
    "    supply = ['imbalance price']\n",
    "    supply_shifters = ['FRR_POS_S', 'FRR_NEG_L', 'IGCC']  \n",
    "    \n",
    "    dependent = df[supply]\n",
    "    exog = df[supply_shifters + ['const_POS', 'const_NEG']]\n",
    "    endog = df[demand]\n",
    "    instruments = df[demand] # with instruments: [supply_shifters]\n",
    "        \n",
    "    gmm = IVGMM(dependent, exog, endog, instruments, weight_type='heteroskedastic')\n",
    "    results = gmm.fit(cov_type='kernel', iter_limit=100) # robust\n",
    "    print('Number of iterations: ' + str(results.iterations))\n",
    "    print(results)\n",
    "    \n",
    "    return(results)"
   ]
  },
  {
   "cell_type": "code",
   "execution_count": 20,
   "metadata": {},
   "outputs": [
    {
     "name": "stdout",
     "output_type": "stream",
     "text": [
      "Number of iterations: 2\n",
      "                          IV-GMM Estimation Summary                           \n",
      "==============================================================================\n",
      "Dep. Variable:        imbalance price   R-squared:                      0.3306\n",
      "Estimator:                     IV-GMM   Adj. R-squared:                 0.3303\n",
      "No. Observations:               11817   F-statistic:                    3433.2\n",
      "Date:                Tue, Aug 25 2020   P-value (F-stat)                0.0000\n",
      "Time:                        09:41:08   Distribution:                  chi2(6)\n",
      "Cov. Estimator:                kernel                                         \n",
      "                                                                              \n",
      "                                Parameter Estimates                                 \n",
      "====================================================================================\n",
      "                  Parameter  Std. Err.     T-stat    P-value    Lower CI    Upper CI\n",
      "------------------------------------------------------------------------------------\n",
      "FRR_POS_S            0.3538     0.1024     3.4551     0.0006      0.1531      0.5545\n",
      "FRR_NEG_L           -0.0245     0.0045    -5.4893     0.0000     -0.0332     -0.0157\n",
      "IGCC                -0.0546     0.0057    -9.6598     0.0000     -0.0657     -0.0436\n",
      "const_POS            10.110     10.544     0.9589     0.3376     -10.556      30.776\n",
      "const_NEG            33.876     5.5027     6.1562     0.0000      23.091      44.661\n",
      "system imbalance     0.0426     0.0036     11.692     0.0000      0.0354      0.0497\n",
      "====================================================================================\n",
      "\n",
      "Endogenous: system imbalance\n",
      "Instruments: system imbalance\n",
      "GMM Covariance\n",
      "Debiased: False\n",
      "Kernel (HAC)\n",
      "Kernel: bartlett\n",
      "Bandwidth: 11815\n"
     ]
    }
   ],
   "source": [
    "# [5] whole period (supply)\n",
    "results_supply_combined = GMM_supply_combined(df_combined);"
   ]
  },
  {
   "cell_type": "markdown",
   "metadata": {},
   "source": [
    "# Estimated supply and demand curve"
   ]
  },
  {
   "cell_type": "code",
   "execution_count": 21,
   "metadata": {},
   "outputs": [],
   "source": [
    "def scatter_curves(df, df_short, df_long,\n",
    "            save_path, \n",
    "            y_label='Imbalance price (€/MWh)', \n",
    "            x_label='System imbalance (MW)', \n",
    "            x='system imbalance', \n",
    "            y='imbalance price', \n",
    "            xlim=[-3000,3000], \n",
    "            xstep=10, \n",
    "            ystep=1, \n",
    "            ylim=[-300,300], \n",
    "            heat=True):\n",
    "    \n",
    "    fig = plt.figure(figsize=(5/1.2, 5/1.2))\n",
    "    \n",
    "    def get_value(df, x, y):\n",
    "        try:\n",
    "            return count.loc[x, y]\n",
    "        except KeyError:\n",
    "            return np.nan\n",
    "\n",
    "    xlist = range(xlim[0], xlim[1]+1, xstep)\n",
    "    ylist = range(ylim[0], ylim[1]+1, ystep)\n",
    "\n",
    "    df = df.copy()\n",
    "    df[x] = (df[x]/xstep).round()*xstep\n",
    "    df[y] = (df[y]/ystep).round()*ystep\n",
    "\n",
    "    count = df.groupby([x, y])[x].count().unstack()\n",
    "    count = pd.concat([\n",
    "        pd.Series([\n",
    "            get_value(count, xi, yi)\n",
    "            for xi in xlist\n",
    "        ], index=xlist)\n",
    "        for yi in ylist\n",
    "    ], axis=1, keys=ylist)\n",
    "\n",
    "    count = count.div(xstep * ystep)\n",
    "    \n",
    "    plt.pcolormesh(count.index, count.columns, count.transpose(), cmap='pink')\n",
    "    plt.grid()\n",
    "    plt.xlabel(x_label)\n",
    "    plt.ylabel(y_label)\n",
    "    \n",
    "    #demand curve (short)\n",
    "    cx_d = results_combined.params['system_imbalance_const_POS'] + results_combined.params['system_imbalance_Load DA err'] * df_short['Load DA err'].mean() + results_short.params['system_imbalance_Solar DA err'] * df_short['Solar DA err'].mean() + results_short.params['system_imbalance_Wind ID err'] * df_short['Wind ID err'].mean() + results_short.params['system_imbalance_ID1'] * df_short['ID1'].mean()\n",
    "\n",
    "    c_d = (1 / results_combined.params['system_imbalance_imbalance price']) * (-cx_d)\n",
    "    x_d_s = np.arange(500,3001, 500)\n",
    "    y_d_s = (1 / results_combined.params['system_imbalance_imbalance price']) * x_d_s + c_d\n",
    "\n",
    "    #supply cuve (short)\n",
    "    c_s = results_combined.params['imbalance_price_const_POS'] + results_combined.params['imbalance_price_FRR_POS_S'] * df_short['FRR_POS_S'].mean()\n",
    "    x_s_s = np.arange(500,3001, 500)\n",
    "    y_s_s = results_combined.params['imbalance_price_system imbalance'] * x_s_s + c_s\n",
    "\n",
    "    #demand curve (long)\n",
    "    df_long = df.loc[df['system imbalance'] < -500]\n",
    "    cx_d = results_combined.params['system_imbalance_const_NEG'] + results_combined.params['system_imbalance_Load DA err'] * df_long['Load DA err'].mean() + results_long.params['system_imbalance_Solar DA err'] * df_long['Solar DA err'].mean() + results_long.params['system_imbalance_Wind ID err'] * df_long['Wind ID err'].mean() + results_long.params['system_imbalance_ID1'] * df_long['ID1'].mean()\n",
    "\n",
    "    c_d = (1 / results_combined.params['system_imbalance_imbalance price']) * (-cx_d)\n",
    "    x_d_l = np.arange(-3000,0, 500)\n",
    "    y_d_l = (1 / results_combined.params['system_imbalance_imbalance price']) * x_d_l + c_d\n",
    "\n",
    "    #supply cuve (long)\n",
    "    c_s = results_combined.params['imbalance_price_const_NEG'] + results_combined.params['imbalance_price_FRR_NEG_L'] * df_long['FRR_NEG_L'].mean()\n",
    "    x_s_l = np.arange(-3000,0, 500)\n",
    "    y_s_l = results_combined.params['imbalance_price_system imbalance'] * x_s_l + c_s\n",
    "\n",
    "    #plot curves\n",
    "    plt.plot(x_s_s,y_s_s, color = '#5B9BD5')\n",
    "    plt.plot(x_s_s,y_d_s, color = '#C40022')\n",
    "    plt.plot(x_s_l,y_s_l, color = '#5B9BD5')\n",
    "    plt.plot(x_d_l,y_d_l, color = '#C40022')\n",
    "    plt.xlim(xlim);\n",
    "    plt.ylim(ylim);\n",
    "    \n",
    "    #Short and long system labels\n",
    "    #Short and long system labels\n",
    "    props = dict(facecolor='white', alpha=0) \n",
    "    fig.text(0.25, 0.925, 'Long system', fontsize=11, verticalalignment='top', bbox=props) \n",
    "    fig.text(0.64, 0.925, 'Short system', fontsize=11, verticalalignment='top', bbox=props)\n",
    "  \n",
    "\n",
    "    plt.savefig('graphs/' + save_path, dpi = 500)      "
   ]
  },
  {
   "cell_type": "code",
   "execution_count": 22,
   "metadata": {
    "scrolled": false
   },
   "outputs": [
    {
     "data": {
      "image/png": "[encoded data removed]",
      "text/plain": [
       "<Figure size 300x300 with 1 Axes>"
      ]
     },
     "metadata": {
      "needs_background": "light"
     },
     "output_type": "display_data"
    }
   ],
   "source": [
    "scatter_curves(df.loc[\n",
    "                    (df['ID_coupling'] != 1) & \n",
    "                    ((df['system imbalance'] > th) | (df['system imbalance'] < -th))\n",
    "                    ],\n",
    "               df_short,\n",
    "               df_long,\n",
    "               save_path='Estimated_curves')"
   ]
  },
  {
   "cell_type": "markdown",
   "metadata": {},
   "source": [
    "# Quantifying the impact of strategic deviations"
   ]
  },
  {
   "cell_type": "markdown",
   "metadata": {},
   "source": [
    "Calculation for short systems"
   ]
  },
  {
   "cell_type": "code",
   "execution_count": 23,
   "metadata": {},
   "outputs": [
    {
     "name": "stdout",
     "output_type": "stream",
     "text": [
      "Probabily of perverse incentives in short systems in analyzed period:\n",
      "0.097\n"
     ]
    }
   ],
   "source": [
    "# number of perverse incentives\n",
    "imbalance_price_spread_short = df_short['imbalance price'] - df_short['ID1']\n",
    "\n",
    "print('Probabily of perverse incentives in short systems in analyzed period:')\n",
    "perverse_incentives_s = imbalance_price_spread_short[imbalance_price_spread_short < 0].count() / imbalance_price_spread_short.count()\n",
    "print(round(perverse_incentives_s,3))"
   ]
  },
  {
   "cell_type": "markdown",
   "metadata": {},
   "source": [
    "Duration curve of the effect of strategic deviations on the system imbalance (short systems)"
   ]
  },
  {
   "cell_type": "code",
   "execution_count": 24,
   "metadata": {},
   "outputs": [
    {
     "data": {
      "image/png": "[encoded data removed]",
      "text/plain": [
       "<Figure size 432x288 with 1 Axes>"
      ]
     },
     "metadata": {
      "needs_background": "light"
     },
     "output_type": "display_data"
    }
   ],
   "source": [
    "var_strategic_deviations_short = (\n",
    "    df_short['imbalance price']*results_combined.params['system_imbalance_imbalance price'] + \n",
    "    df_short['ID1']*results_combined.params['system_imbalance_ID1']\n",
    ")\n",
    "duration_curve_short_w_o_const = pd.Series(var_strategic_deviations_short.sort_values(ascending=False).values)\n",
    "duration_curve_short_w_o_const.plot()\n",
    "\n",
    "const_strategic_deviations_short = duration_curve_short_w_o_const.iloc[imbalance_price_spread_short[imbalance_price_spread_short < 0].count()]\n",
    "strategic_deviations_short = var_strategic_deviations_short - const_strategic_deviations_short"
   ]
  },
  {
   "cell_type": "code",
   "execution_count": 25,
   "metadata": {
    "scrolled": false
   },
   "outputs": [
    {
     "name": "stdout",
     "output_type": "stream",
     "text": [
      "Average effect on system imbalance\n",
      "136.62609555368007\n",
      "-193.81662445366067\n",
      "-161.8925768480049\n",
      "\n",
      "\n",
      "Average imbalance price spread\n",
      "-10.396677067082681\n",
      "32.13700950158367\n"
     ]
    }
   ],
   "source": [
    "print('Average effect on system imbalance')\n",
    "print(strategic_deviations_short[strategic_deviations_short>0].mean())\n",
    "print(strategic_deviations_short[strategic_deviations_short<0].mean())\n",
    "print(strategic_deviations_short.mean())\n",
    "print('\\n')\n",
    "\n",
    "print('Average imbalance price spread')\n",
    "print(imbalance_price_spread_short[imbalance_price_spread_short<0].mean())\n",
    "print(imbalance_price_spread_short[imbalance_price_spread_short>0].mean())"
   ]
  },
  {
   "cell_type": "markdown",
   "metadata": {},
   "source": [
    "Long systems"
   ]
  },
  {
   "cell_type": "code",
   "execution_count": 26,
   "metadata": {},
   "outputs": [
    {
     "name": "stdout",
     "output_type": "stream",
     "text": [
      "Probabily of perverse incentives in short systems in analyzed period:\n",
      "0.093\n"
     ]
    }
   ],
   "source": [
    "# number of perverse incentives\n",
    "imbalance_price_spread_long = df_long['imbalance price'] - df_long['ID1']\n",
    "print('Probabily of perverse incentives in short systems in analyzed period:')\n",
    "perverse_incentives_l = imbalance_price_spread_long[imbalance_price_spread_long > 0].count() / imbalance_price_spread_long.count()\n",
    "print(round(perverse_incentives_l,3))"
   ]
  },
  {
   "cell_type": "markdown",
   "metadata": {},
   "source": [
    "Duration curve of the effect of strategic deviations on the system imbalance (long systems)"
   ]
  },
  {
   "cell_type": "code",
   "execution_count": 27,
   "metadata": {},
   "outputs": [
    {
     "data": {
      "text/plain": [
       "<matplotlib.axes._subplots.AxesSubplot at 0x250f9b97358>"
      ]
     },
     "execution_count": 27,
     "metadata": {},
     "output_type": "execute_result"
    },
    {
     "data": {
      "image/png": "[encoded data removed]",
      "text/plain": [
       "<Figure size 432x288 with 1 Axes>"
      ]
     },
     "metadata": {
      "needs_background": "light"
     },
     "output_type": "display_data"
    }
   ],
   "source": [
    "var_strategic_deviations_long = (\n",
    "    df_long['imbalance price']*results_combined.params['system_imbalance_imbalance price'] + \n",
    "    df_long['ID1']*results_combined.params['system_imbalance_ID1']\n",
    ")\n",
    "duration_curve_long_w_o_const = pd.Series(var_strategic_deviations_long.sort_values(ascending=True).values)\n",
    "duration_curve_long_w_o_const.plot()"
   ]
  },
  {
   "cell_type": "code",
   "execution_count": 28,
   "metadata": {},
   "outputs": [],
   "source": [
    "const_strategic_deviations_long = duration_curve_long_w_o_const.iloc[imbalance_price_spread_long[imbalance_price_spread_long > 0].count()]\n",
    "strategic_deviations_long = var_strategic_deviations_long - const_strategic_deviations_long"
   ]
  },
  {
   "cell_type": "code",
   "execution_count": 29,
   "metadata": {
    "scrolled": true
   },
   "outputs": [
    {
     "name": "stdout",
     "output_type": "stream",
     "text": [
      "Average effect on system imbalance\n",
      "-133.5707079755564\n",
      "203.8394408613174\n",
      "172.31452947625735\n",
      "\n",
      "\n",
      "Average imbalance price spread\n",
      "10.494202898550743\n",
      "-32.380083102493096\n"
     ]
    }
   ],
   "source": [
    "print('Average effect on system imbalance')\n",
    "print(strategic_deviations_long[strategic_deviations_long<0].mean())\n",
    "print(strategic_deviations_long[strategic_deviations_long>0].mean())\n",
    "print(strategic_deviations_long.mean())\n",
    "print('\\n')\n",
    "\n",
    "print('Average imbalance price spread')\n",
    "print(imbalance_price_spread_long[imbalance_price_spread_long>0].mean())\n",
    "print(imbalance_price_spread_long[imbalance_price_spread_long<0].mean())"
   ]
  },
  {
   "cell_type": "markdown",
   "metadata": {},
   "source": [
    "# Effect of strategic deviations on the peak activation of reserves"
   ]
  },
  {
   "cell_type": "code",
   "execution_count": 30,
   "metadata": {},
   "outputs": [
    {
     "name": "stdout",
     "output_type": "stream",
     "text": [
      "Long system\n",
      "observed (including SD)\n",
      "-3417.244\n",
      "\n",
      "\n",
      "Hypothetical (no SD)\n",
      "-7403.105509541781\n"
     ]
    }
   ],
   "source": [
    "system_imbalance_without_SD_long = df_long['system imbalance'] - strategic_deviations_long\n",
    "print('Long system')\n",
    "print('observed (including SD)')\n",
    "print(df_long['system imbalance'].min())\n",
    "print('\\n')\n",
    "print('Hypothetical (no SD)')\n",
    "print(system_imbalance_without_SD_long.min())"
   ]
  },
  {
   "cell_type": "code",
   "execution_count": 31,
   "metadata": {},
   "outputs": [
    {
     "data": {
      "text/plain": [
       "2019-08-10 18:00:00+02:00   -7403.105510\n",
       "2019-07-31 15:15:00+02:00   -5998.809078\n",
       "2019-09-02 02:45:00+02:00   -5129.590103\n",
       "2019-09-06 10:45:00+02:00   -4551.906068\n",
       "2018-12-21 18:30:00+01:00   -3544.009743\n",
       "dtype: float64"
      ]
     },
     "execution_count": 31,
     "metadata": {},
     "output_type": "execute_result"
    }
   ],
   "source": [
    "system_imbalance_without_SD_long.sort_values().head()"
   ]
  },
  {
   "cell_type": "code",
   "execution_count": 32,
   "metadata": {},
   "outputs": [
    {
     "name": "stdout",
     "output_type": "stream",
     "text": [
      "Short system\n",
      "observed (including SD)\n",
      "8068.064\n",
      "\n",
      "\n",
      "Hypothetical (no SD)\n",
      "10362.250248025093\n"
     ]
    }
   ],
   "source": [
    "system_imbalance_without_SD_short = df_short['system imbalance'] - strategic_deviations_short\n",
    "\n",
    "print('Short system')\n",
    "print('observed (including SD)')\n",
    "print(df_short['system imbalance'].max())\n",
    "print('\\n')\n",
    "print('Hypothetical (no SD)')\n",
    "print(system_imbalance_without_SD_short.max())"
   ]
  },
  {
   "cell_type": "code",
   "execution_count": 33,
   "metadata": {},
   "outputs": [
    {
     "data": {
      "text/plain": [
       "2019-06-12 11:45:00+02:00     6140.328503\n",
       "2019-06-12 11:15:00+02:00     6374.002925\n",
       "2018-08-08 06:30:00+02:00     6952.039666\n",
       "2019-06-12 11:30:00+02:00     7190.980315\n",
       "2019-08-10 10:00:00+02:00    10362.250248\n",
       "dtype: float64"
      ]
     },
     "execution_count": 33,
     "metadata": {},
     "output_type": "execute_result"
    }
   ],
   "source": [
    "system_imbalance_without_SD_short.sort_values().tail()"
   ]
  },
  {
   "cell_type": "markdown",
   "metadata": {},
   "source": [
    "# Scatter plot visualizing the no-effect-of-strategic-deviations-line"
   ]
  },
  {
   "cell_type": "code",
   "execution_count": 34,
   "metadata": {},
   "outputs": [],
   "source": [
    "def scatter_id1(df, \n",
    "            save_path, \n",
    "            xlim=[-50,150], \n",
    "            ylim=[0,200],\n",
    "            x_label='Intraday price (€/MWh)', \n",
    "            y_label='Imbalance price (€/MWh)', \n",
    "            x='ID1', \n",
    "            y='imbalance price'):\n",
    "    \n",
    "    fig = plt.figure(figsize=(4.5, 4.5))\n",
    "    \n",
    "  \n",
    "    plt.scatter(df[x],df[y], s = 1)\n",
    "    plt.grid()\n",
    "    plt.xlabel(x_label)\n",
    "    plt.ylabel(y_label)\n",
    "   \n",
    "    plt.xlim(xlim);\n",
    "    plt.ylim(ylim);\n",
    "    \n",
    "    plt.plot(xlim, xlim, color = 'black', linewidth = 0.5)\n",
    "    plt.tight_layout()\n",
    "    plt.savefig('graphs/' + save_path)      "
   ]
  },
  {
   "cell_type": "code",
   "execution_count": 35,
   "metadata": {},
   "outputs": [],
   "source": [
    "slope = results_combined.params['system_imbalance_ID1'] / results_combined.params['system_imbalance_imbalance price']"
   ]
  },
  {
   "cell_type": "code",
   "execution_count": 36,
   "metadata": {},
   "outputs": [],
   "source": [
    "def smaller_short(n):\n",
    "    df = df_short\n",
    "    share = perverse_incentives_s\n",
    "    \n",
    "    return(share - (sum(df['imbalance price'] < df['ID1'] * -slope + n) / (sum(df['imbalance price'] < df['ID1'] * -slope + n) + sum(df['imbalance price'] > df['ID1'] * -slope + n))))"
   ]
  },
  {
   "cell_type": "code",
   "execution_count": 37,
   "metadata": {},
   "outputs": [],
   "source": [
    "def smaller_long(n):\n",
    "    df = df_long\n",
    "    share = 1-perverse_incentives_l\n",
    "    \n",
    "    return(share - (sum(df['imbalance price'] < df['ID1'] * -slope + n) / (sum(df['imbalance price'] < df['ID1'] * -slope + n) + sum(df['imbalance price'] > df['ID1'] * -slope + n))))"
   ]
  },
  {
   "cell_type": "code",
   "execution_count": 38,
   "metadata": {
    "scrolled": true
   },
   "outputs": [],
   "source": [
    "n_short = fsolve(smaller_short, -100)[0]\n",
    "n_long = fsolve(smaller_long, -3)[0]"
   ]
  },
  {
   "cell_type": "code",
   "execution_count": 39,
   "metadata": {},
   "outputs": [],
   "source": [
    "def s_func_x(x):\n",
    "    return(x * -slope + n_short)\n",
    "    \n",
    "def s_func_y(y):\n",
    "    return((y - n_short) / -slope) "
   ]
  },
  {
   "cell_type": "code",
   "execution_count": 40,
   "metadata": {},
   "outputs": [],
   "source": [
    "def l_func_x(x):\n",
    "    return(x * -slope + n_long)\n",
    "    \n",
    "    \n",
    "def l_func_y(y):\n",
    "    return((y - n_long) / -slope) "
   ]
  },
  {
   "cell_type": "markdown",
   "metadata": {},
   "source": [
    "Graph for short system"
   ]
  },
  {
   "cell_type": "code",
   "execution_count": 41,
   "metadata": {
    "scrolled": false
   },
   "outputs": [
    {
     "data": {
      "image/png": "[encoded data removed]",
      "text/plain": [
       "<Figure size 324x324 with 1 Axes>"
      ]
     },
     "metadata": {
      "needs_background": "light"
     },
     "output_type": "display_data"
    }
   ],
   "source": [
    "xlim=[-25,175]\n",
    "ylim=[-25,175]\n",
    "\n",
    "scatter_id1(df.loc[(df['ID_coupling'] != 1) & (df['system imbalance'] > 500)], \n",
    "            save_path='ID1_scatter_short', \n",
    "            xlim=xlim,\n",
    "            ylim=ylim)\n",
    "\n",
    "x = np.array([-25,175]);\n",
    "y = s_func_x(x)\n",
    "plt.plot(x,y, color = 'coral')\n",
    "\n",
    "points =  [[xlim[1],ylim[1]],[xlim[1],ylim[0]], [s_func_y(ylim[0]),ylim[0]], [s_func_y(ylim[1]),ylim[1]]]\n",
    "polygon = plt.Polygon(points, fc = 'orange', alpha = 0.25)\n",
    "plt.gca().add_patch(polygon)\n",
    "\n",
    "plt.savefig('graphs/' + 'Effect_price_change_short') "
   ]
  },
  {
   "cell_type": "markdown",
   "metadata": {},
   "source": [
    "Graph for long system"
   ]
  },
  {
   "cell_type": "code",
   "execution_count": 42,
   "metadata": {},
   "outputs": [
    {
     "data": {
      "image/png": "[encoded data removed]",
      "text/plain": [
       "<Figure size 324x324 with 1 Axes>"
      ]
     },
     "metadata": {
      "needs_background": "light"
     },
     "output_type": "display_data"
    }
   ],
   "source": [
    "xlim=[-100,100]\n",
    "ylim=[-100,100]\n",
    "    \n",
    "scatter_id1(df.loc[(df['ID_coupling'] != 1) & (df['system imbalance'] < -500)],\n",
    "            save_path='ID1_scatter_long',\n",
    "            xlim=xlim,\n",
    "            ylim=ylim)\n",
    "\n",
    "x = np.array([-100,100]);\n",
    "y = l_func_x(x)\n",
    "plt.plot(x,y, color = 'coral')\n",
    "\n",
    "points =  [[xlim[0], ylim[1]],[l_func_y(ylim[1]),ylim[1]], [l_func_y(ylim[0]),ylim[0]], [xlim[0],ylim[0]]]\n",
    "polygon = plt.Polygon(points, fc = 'orange', alpha = 0.25)\n",
    "plt.gca().add_patch(polygon)\n",
    "\n",
    "plt.savefig('graphs/' + 'Effect_price_change_long')"
   ]
  },
  {
   "cell_type": "markdown",
   "metadata": {},
   "source": [
    "# Effect of a 20 €/MWh price change on the system imbalance"
   ]
  },
  {
   "cell_type": "code",
   "execution_count": 43,
   "metadata": {},
   "outputs": [
    {
     "name": "stdout",
     "output_type": "stream",
     "text": [
      "ID1 change (short):\n",
      "145.17364427934316 \n",
      "\n",
      "Imbalance price change (short):\n",
      "-56.10950438023245 \n",
      "\n",
      "ID1 change (long):\n",
      "145.17364427934316 \n",
      "\n",
      "Imbalance price change (long):\n",
      "-56.10950438023245\n"
     ]
    }
   ],
   "source": [
    "print('ID1 change (short):')\n",
    "\n",
    "print(str(20* results_combined.params['system_imbalance_ID1']), '\\n')\n",
    "\n",
    "print('Imbalance price change (short):')\n",
    "\n",
    "print(str(20* results_combined.params['system_imbalance_imbalance price']), '\\n')\n",
    "\n",
    "print('ID1 change (long):')\n",
    "\n",
    "print(str(20* results_combined.params['system_imbalance_ID1']), '\\n')\n",
    "\n",
    "print('Imbalance price change (long):')\n",
    "\n",
    "print(str(20* results_combined.params['system_imbalance_imbalance price']))"
   ]
  },
  {
   "cell_type": "markdown",
   "metadata": {},
   "source": [
    "#  Sensitivities"
   ]
  },
  {
   "cell_type": "code",
   "execution_count": 44,
   "metadata": {},
   "outputs": [
    {
     "name": "stdout",
     "output_type": "stream",
     "text": [
      "Number of iterations: 86\n",
      "                 System Iterative System GMM Estimation Summary                 \n",
      "================================================================================\n",
      "Estimator:         Iterative System GMM   Overall R-squared:              0.7847\n",
      "No. Equations.:                       2   Cov. Estimator:                 kernel\n",
      "No. Observations:                 11817   Num. Constraints:                 None\n",
      "Date:                  Tue, Aug 25 2020                                         \n",
      "Time:                          09:41:34                                         \n",
      "                                                                                \n",
      "                                                                                \n",
      "           Equation: imbalance_price, Dependent Variable: imbalance price           \n",
      "====================================================================================\n",
      "                  Parameter  Std. Err.     T-stat    P-value    Lower CI    Upper CI\n",
      "------------------------------------------------------------------------------------\n",
      "IGCC                -0.0523     0.0064    -8.2185     0.0000     -0.0648     -0.0398\n",
      "FRR_POS_S            0.3416     0.0614     5.5676     0.0000      0.2213      0.4619\n",
      "FRR_NEG_L           -0.0459     0.0180    -2.5572     0.0106     -0.0811     -0.0107\n",
      "const_POS            9.5103     9.8633     0.9642     0.3349     -9.8214      28.842\n",
      "const_NEG            38.860     8.0418     4.8323     0.0000      23.099      54.622\n",
      "system imbalance     0.0431     0.0089     4.8607     0.0000      0.0257      0.0604\n",
      "                                                                                    \n",
      "==============================================\n",
      "                 Instruments                  \n",
      "----------------------------------------------\n",
      "Load DA err, Solar DA err, Wind DA err, ID1-DA\n",
      "                                              \n",
      "          Equation: system_imbalance, Dependent Variable: system imbalance         \n",
      "===================================================================================\n",
      "                 Parameter  Std. Err.     T-stat    P-value    Lower CI    Upper CI\n",
      "-----------------------------------------------------------------------------------\n",
      "ID1                 5.5514     1.2784     4.3425     0.0000      3.0458      8.0570\n",
      "Load DA err        -0.0195     0.0036    -5.3670     0.0000     -0.0267     -0.0124\n",
      "Wind DA err         0.0366     0.0083     4.4270     0.0000      0.0204      0.0528\n",
      "Solar DA err        0.0485     0.0167     2.8991     0.0037      0.0157      0.0813\n",
      "const_POS           734.95     37.319     19.694     0.0000      661.81      808.09\n",
      "const_NEG          -972.70     41.791    -23.275     0.0000     -1054.6     -890.79\n",
      "imbalance price    -2.5537     0.6242    -4.0911     0.0000     -3.7772     -1.3303\n",
      "==========================\n",
      "       Instruments        \n",
      "--------------------------\n",
      "IGCC, FRR_POS_S, FRR_NEG_L\n",
      "--------------------------\n",
      "\n",
      "Covariance Estimator:\n",
      "GMM Kernel (HAC) Covariance\n",
      "Weight Estimator:\n",
      "Heteroskedastic (Robust) Weighting (Debiased: False, Center: False)\n"
     ]
    }
   ],
   "source": [
    "#DA wind error\n",
    "system_GMM_combined(df_combined, wind = 'Wind DA err');"
   ]
  },
  {
   "cell_type": "code",
   "execution_count": 45,
   "metadata": {},
   "outputs": [],
   "source": [
    "th = 400\n",
    "df_combined = df.loc[((df['system imbalance'] < -th) | (df['system imbalance'] > th)) & (df['ID_coupling'] != 1)]"
   ]
  },
  {
   "cell_type": "code",
   "execution_count": 46,
   "metadata": {},
   "outputs": [
    {
     "name": "stdout",
     "output_type": "stream",
     "text": [
      "Number of iterations: 14\n",
      "                 System Iterative System GMM Estimation Summary                 \n",
      "================================================================================\n",
      "Estimator:         Iterative System GMM   Overall R-squared:              0.7195\n",
      "No. Equations.:                       2   Cov. Estimator:                 kernel\n",
      "No. Observations:                 15112   Num. Constraints:                 None\n",
      "Date:                  Tue, Aug 25 2020                                         \n",
      "Time:                          09:41:35                                         \n",
      "                                                                                \n",
      "                                                                                \n",
      "           Equation: imbalance_price, Dependent Variable: imbalance price           \n",
      "====================================================================================\n",
      "                  Parameter  Std. Err.     T-stat    P-value    Lower CI    Upper CI\n",
      "------------------------------------------------------------------------------------\n",
      "IGCC                -0.0570     0.0060    -9.5289     0.0000     -0.0687     -0.0452\n",
      "FRR_POS_S            0.2828     0.0465     6.0874     0.0000      0.1918      0.3739\n",
      "FRR_NEG_L           -0.0206     0.0078    -2.6215     0.0088     -0.0359     -0.0052\n",
      "const_POS           -7.4588     9.1321    -0.8168     0.4141     -25.357      10.440\n",
      "const_NEG            56.478     7.0803     7.9769     0.0000      42.601      70.356\n",
      "system imbalance     0.0752     0.0101     7.4207     0.0000      0.0553      0.0951\n",
      "                                                                                    \n",
      "==============================================\n",
      "                 Instruments                  \n",
      "----------------------------------------------\n",
      "Load DA err, Solar DA err, Wind ID err, ID1-DA\n",
      "                                              \n",
      "          Equation: system_imbalance, Dependent Variable: system imbalance         \n",
      "===================================================================================\n",
      "                 Parameter  Std. Err.     T-stat    P-value    Lower CI    Upper CI\n",
      "-----------------------------------------------------------------------------------\n",
      "ID1                 7.5000     1.2710     5.9009     0.0000      5.0089      9.9910\n",
      "Load DA err        -0.0204     0.0036    -5.7300     0.0000     -0.0274     -0.0135\n",
      "Wind ID err         0.1037     0.0163     6.3655     0.0000      0.0718      0.1357\n",
      "Solar DA err        0.0499     0.0159     3.1357     0.0017      0.0187      0.0810\n",
      "const_POS           610.26     38.485     15.857     0.0000      534.83      685.69\n",
      "const_NEG          -947.82     41.396    -22.896     0.0000     -1029.0     -866.68\n",
      "imbalance price    -3.4756     0.7049    -4.9309     0.0000     -4.8571     -2.0941\n",
      "==========================\n",
      "       Instruments        \n",
      "--------------------------\n",
      "IGCC, FRR_POS_S, FRR_NEG_L\n",
      "--------------------------\n",
      "\n",
      "Covariance Estimator:\n",
      "GMM Kernel (HAC) Covariance\n",
      "Weight Estimator:\n",
      "Heteroskedastic (Robust) Weighting (Debiased: False, Center: False)\n"
     ]
    }
   ],
   "source": [
    "system_GMM_combined(df_combined);"
   ]
  },
  {
   "cell_type": "code",
   "execution_count": 47,
   "metadata": {},
   "outputs": [],
   "source": [
    "th = 300\n",
    "df_combined = df.loc[((df['system imbalance'] < -th) | (df['system imbalance'] > th)) & (df['ID_coupling'] != 1)]"
   ]
  },
  {
   "cell_type": "code",
   "execution_count": 48,
   "metadata": {
    "scrolled": false
   },
   "outputs": [
    {
     "name": "stdout",
     "output_type": "stream",
     "text": [
      "Number of iterations: 23\n",
      "                 System Iterative System GMM Estimation Summary                 \n",
      "================================================================================\n",
      "Estimator:         Iterative System GMM   Overall R-squared:              0.6013\n",
      "No. Equations.:                       2   Cov. Estimator:                 kernel\n",
      "No. Observations:                 19147   Num. Constraints:                 None\n",
      "Date:                  Tue, Aug 25 2020                                         \n",
      "Time:                          09:41:36                                         \n",
      "                                                                                \n",
      "                                                                                \n",
      "           Equation: imbalance_price, Dependent Variable: imbalance price           \n",
      "====================================================================================\n",
      "                  Parameter  Std. Err.     T-stat    P-value    Lower CI    Upper CI\n",
      "------------------------------------------------------------------------------------\n",
      "IGCC                -0.0635     0.0062    -10.279     0.0000     -0.0756     -0.0514\n",
      "FRR_POS_S            0.5970     0.2034     2.9346     0.0033      0.1983      0.9957\n",
      "FRR_NEG_L           -0.0157     0.0062    -2.5295     0.0114     -0.0278     -0.0035\n",
      "const_POS           -34.578     25.627    -1.3493     0.1773     -84.806      15.651\n",
      "const_NEG            39.704     6.6768     5.9466     0.0000      26.618      52.791\n",
      "system imbalance     0.0575     0.0108     5.3376     0.0000      0.0364      0.0786\n",
      "                                                                                    \n",
      "==============================================\n",
      "                 Instruments                  \n",
      "----------------------------------------------\n",
      "Load DA err, Solar DA err, Wind ID err, ID1-DA\n",
      "                                              \n",
      "          Equation: system_imbalance, Dependent Variable: system imbalance         \n",
      "===================================================================================\n",
      "                 Parameter  Std. Err.     T-stat    P-value    Lower CI    Upper CI\n",
      "-----------------------------------------------------------------------------------\n",
      "ID1                 8.3944     1.2301     6.8243     0.0000      5.9835      10.805\n",
      "Load DA err        -0.0242     0.0036    -6.6671     0.0000     -0.0313     -0.0171\n",
      "Wind ID err         0.1113     0.0177     6.2814     0.0000      0.0766      0.1460\n",
      "Solar DA err        0.0409     0.0142     2.8775     0.0040      0.0130      0.0687\n",
      "const_POS           567.83     36.242     15.668     0.0000      496.80      638.87\n",
      "const_NEG          -887.49     39.292    -22.587     0.0000     -964.50     -810.48\n",
      "imbalance price    -4.7246     0.7776    -6.0755     0.0000     -6.2487     -3.2004\n",
      "==========================\n",
      "       Instruments        \n",
      "--------------------------\n",
      "IGCC, FRR_POS_S, FRR_NEG_L\n",
      "--------------------------\n",
      "\n",
      "Covariance Estimator:\n",
      "GMM Kernel (HAC) Covariance\n",
      "Weight Estimator:\n",
      "Heteroskedastic (Robust) Weighting (Debiased: False, Center: False)\n"
     ]
    }
   ],
   "source": [
    "system_GMM_combined(df_combined);"
   ]
  },
  {
   "cell_type": "code",
   "execution_count": 49,
   "metadata": {},
   "outputs": [],
   "source": [
    "th = 200\n",
    "df_combined = df.loc[((df['system imbalance'] < -th) | (df['system imbalance'] > th)) & (df['ID_coupling'] != 1)]"
   ]
  },
  {
   "cell_type": "code",
   "execution_count": 50,
   "metadata": {},
   "outputs": [
    {
     "name": "stdout",
     "output_type": "stream",
     "text": [
      "Number of iterations: 24\n",
      "                 System Iterative System GMM Estimation Summary                 \n",
      "================================================================================\n",
      "Estimator:         Iterative System GMM   Overall R-squared:              0.4249\n",
      "No. Equations.:                       2   Cov. Estimator:                 kernel\n",
      "No. Observations:                 23976   Num. Constraints:                 None\n",
      "Date:                  Tue, Aug 25 2020                                         \n",
      "Time:                          09:41:37                                         \n",
      "                                                                                \n",
      "                                                                                \n",
      "           Equation: imbalance_price, Dependent Variable: imbalance price           \n",
      "====================================================================================\n",
      "                  Parameter  Std. Err.     T-stat    P-value    Lower CI    Upper CI\n",
      "------------------------------------------------------------------------------------\n",
      "IGCC                -0.0702     0.0067    -10.548     0.0000     -0.0832     -0.0571\n",
      "FRR_POS_S            0.6287     0.1800     3.4920     0.0005      0.2758      0.9816\n",
      "FRR_NEG_L           -0.0129     0.0050    -2.6069     0.0091     -0.0227     -0.0032\n",
      "const_POS           -39.401     24.303    -1.6213     0.1050     -87.034      8.2311\n",
      "const_NEG            36.212     5.3288     6.7955     0.0000      25.767      46.656\n",
      "system imbalance     0.0575     0.0104     5.5361     0.0000      0.0371      0.0778\n",
      "                                                                                    \n",
      "==============================================\n",
      "                 Instruments                  \n",
      "----------------------------------------------\n",
      "Load DA err, Solar DA err, Wind ID err, ID1-DA\n",
      "                                              \n",
      "          Equation: system_imbalance, Dependent Variable: system imbalance         \n",
      "===================================================================================\n",
      "                 Parameter  Std. Err.     T-stat    P-value    Lower CI    Upper CI\n",
      "-----------------------------------------------------------------------------------\n",
      "ID1                 9.6870     1.1829     8.1890     0.0000      7.3685      12.005\n",
      "Load DA err        -0.0271     0.0036    -7.5572     0.0000     -0.0341     -0.0200\n",
      "Wind ID err         0.1159     0.0191     6.0693     0.0000      0.0785      0.1533\n",
      "Solar DA err        0.0332     0.0139     2.3843     0.0171      0.0059      0.0605\n",
      "const_POS           534.28     36.077     14.809     0.0000      463.57      604.99\n",
      "const_NEG          -836.51     38.423    -21.771     0.0000     -911.82     -761.21\n",
      "imbalance price    -6.2479     0.8286    -7.5407     0.0000     -7.8718     -4.6240\n",
      "==========================\n",
      "       Instruments        \n",
      "--------------------------\n",
      "IGCC, FRR_POS_S, FRR_NEG_L\n",
      "--------------------------\n",
      "\n",
      "Covariance Estimator:\n",
      "GMM Kernel (HAC) Covariance\n",
      "Weight Estimator:\n",
      "Heteroskedastic (Robust) Weighting (Debiased: False, Center: False)\n"
     ]
    }
   ],
   "source": [
    "system_GMM_combined(df_combined);"
   ]
  }
 ],
 "metadata": {
  "@webio": {
   "lastCommId": null,
   "lastKernelId": null
  },
  "kernelspec": {
   "display_name": "Python 3",
   "language": "python",
   "name": "python3"
  },
  "language_info": {
   "codemirror_mode": {
    "name": "ipython",
    "version": 3
   },
   "file_extension": ".py",
   "mimetype": "text/x-python",
   "name": "python",
   "nbconvert_exporter": "python",
   "pygments_lexer": "ipython3",
   "version": "3.7.3"
  }
 },
 "nbformat": 4,
 "nbformat_minor": 2
}
